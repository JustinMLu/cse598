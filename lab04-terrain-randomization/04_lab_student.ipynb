{
 "cells": [
  {
   "cell_type": "markdown",
   "id": "0052d469",
   "metadata": {},
   "source": [
    "# EECS 598 Lab 4: Domain Randomization and Terrain Generation\n",
    "\n",
    "![lab4_poster](./media/lab4_poster.png)"
   ]
  },
  {
   "cell_type": "markdown",
   "id": "35fe0d94",
   "metadata": {},
   "source": [
    "This notebook is worth **80 points**. Questions and implementation are marked with relevent `#TODO(student)` markers.\n",
    "\n",
    "Before starting the assignment, please put your name and UMID in the following format:\n",
    "\n",
    "Firstname LASTNAME, #00000000 (ex. Drew SCHEFFER #31415926)"
   ]
  },
  {
   "cell_type": "markdown",
   "id": "80e2a8b0",
   "metadata": {},
   "source": [
    "**YOUR ANSWER**\n",
    "\n",
    "Your NAME, #XXXXXXXX"
   ]
  },
  {
   "cell_type": "markdown",
   "id": "051985ae",
   "metadata": {},
   "source": [
    "## Setup"
   ]
  },
  {
   "cell_type": "code",
   "execution_count": null,
   "id": "7b4d4e9d",
   "metadata": {},
   "outputs": [],
   "source": [
    "import sys, types, importlib\n",
    "\n",
    "# Create a tiny fake 'imp' module exposing only 'reload'\n",
    "_imp = types.ModuleType(\"imp\")\n",
    "_imp.reload = importlib.reload\n",
    "sys.modules[\"imp\"] = _imp\n",
    "\n",
    "# load autoreload\n",
    "%load_ext autoreload\n",
    "%autoreload 2"
   ]
  },
  {
   "cell_type": "code",
   "execution_count": null,
   "id": "b241b29a",
   "metadata": {},
   "outputs": [],
   "source": [
    "print('Setting environment variable to use GPU rendering:')\n",
    "%env MUJOCO_GL=egl\n",
    "%env XLA_PYTHON_CLIENT_PREALLOCATE=false"
   ]
  },
  {
   "cell_type": "code",
   "execution_count": null,
   "id": "e71b5ee4",
   "metadata": {},
   "outputs": [],
   "source": [
    "#@title Import packages for plotting and creating graphics\n",
    "import time\n",
    "import itertools\n",
    "import numpy as np\n",
    "from typing import Callable, NamedTuple, Optional, Union, List\n",
    "\n",
    "# Graphics and plotting.\n",
    "print('Installing mediapy:')\n",
    "!command -v ffmpeg >/dev/null || (apt update && apt install -y ffmpeg)\n",
    "!pip install -q mediapy\n",
    "import mediapy as media\n",
    "import matplotlib.pyplot as plt\n",
    "\n",
    "# More legible printing from numpy.\n",
    "np.set_printoptions(precision=3, suppress=True, linewidth=100)"
   ]
  },
  {
   "cell_type": "markdown",
   "id": "8ee8f44b",
   "metadata": {},
   "source": [
    "### Google Colab Setup"
   ]
  },
  {
   "cell_type": "markdown",
   "id": "ee71ce41",
   "metadata": {},
   "source": [
    "Next, we'll run a few fommands to set up the environment on Google Colab. If you are running this notebook locally you can skip this section"
   ]
  },
  {
   "cell_type": "markdown",
   "id": "a16e6299",
   "metadata": {},
   "source": [
    "Run the following to mount this notebook to your Google Drive. Follow the link and sign into the Google account following the prompts. Use the same Google account that you used to store this notebook. "
   ]
  },
  {
   "cell_type": "code",
   "execution_count": null,
   "id": "547f0b4e",
   "metadata": {},
   "outputs": [],
   "source": [
    "from google.colab import drive\n",
    "drive.mount('/content/drive')"
   ]
  },
  {
   "cell_type": "markdown",
   "id": "4786706d",
   "metadata": {},
   "source": [
    "Now update the path below to point to the folder in your Google Drive where you uploaded this notebook. If everything worked correctly you should see the following filenames: [`custom_env.py`, `02_lab.ipynb`]"
   ]
  },
  {
   "cell_type": "code",
   "execution_count": null,
   "id": "3f2f3840",
   "metadata": {},
   "outputs": [],
   "source": [
    "import os\n",
    "\n",
    "# TODO: Fill in the Google Drive path where you uploaded project 2\n",
    "# Example: If you create a 2025FA folder and put all the files under Lab4, then '2025FA/Lab4'\n",
    "# GOOGLE_DRIVE_PATH_AFTER_MYDRIVE = '2025FA/Lab4'\n",
    "\n",
    "GOOGLE_DRIVE_PATH_AFTER_MYDRIVE = None\n",
    "GOOGLE_DRIVE_PATH_LAB3 = os.path.join('drive', 'My Drive', GOOGLE_DRIVE_PATH_AFTER_MYDRIVE)\n",
    "\n",
    "print(os.listdir(GOOGLE_DRIVE_PATH_LAB3))"
   ]
  },
  {
   "cell_type": "code",
   "execution_count": null,
   "id": "85dfee08",
   "metadata": {},
   "outputs": [],
   "source": [
    "from google.colab import files\n",
    "\n",
    "import distutils.util\n",
    "import os\n",
    "import subprocess\n",
    "if subprocess.run('nvidia-smi').returncode:\n",
    "  raise RuntimeError(\n",
    "      'Cannot communicate with GPU. '\n",
    "      'Make sure you are using a GPU Colab runtime. '\n",
    "      'Go to the Runtime menu and select Choose runtime type.')\n",
    "\n",
    "# Add an ICD config so that glvnd can pick up the Nvidia EGL driver.\n",
    "# This is usually installed as part of an Nvidia driver package, but the Colab\n",
    "# kernel doesn't install its driver via APT, and as a result the ICD is missing.\n",
    "# (https://github.com/NVIDIA/libglvnd/blob/master/src/EGL/icd_enumeration.md)\n",
    "NVIDIA_ICD_CONFIG_PATH = '/usr/share/glvnd/egl_vendor.d/10_nvidia.json'\n",
    "if not os.path.exists(NVIDIA_ICD_CONFIG_PATH):\n",
    "  with open(NVIDIA_ICD_CONFIG_PATH, 'w') as f:\n",
    "    f.write(\"\"\"{\n",
    "    \"file_format_version\" : \"1.0.0\",\n",
    "    \"ICD\" : {\n",
    "        \"library_path\" : \"libEGL_nvidia.so.0\"\n",
    "    }\n",
    "}\n",
    "\"\"\")\n",
    "\n"
   ]
  },
  {
   "cell_type": "markdown",
   "id": "9f310376",
   "metadata": {},
   "source": [
    "Ensure that everything is installed properly"
   ]
  },
  {
   "cell_type": "code",
   "execution_count": null,
   "id": "34dddfd3",
   "metadata": {},
   "outputs": [],
   "source": [
    "import os\n",
    "\n",
    "try:\n",
    "  print('Checking that the installation succeeded:')\n",
    "  import mujoco\n",
    "  mujoco.MjModel.from_xml_string('<mujoco/>')\n",
    "except Exception as e:\n",
    "  raise e from RuntimeError(\n",
    "      'Something went wrong during installation. Check the shell output above '\n",
    "      'for more information.\\n'\n",
    "      'If using a hosted Colab runtime, make sure you enable GPU acceleration '\n",
    "      'by going to the Runtime menu and selecting \"Choose runtime type\".')\n",
    "\n",
    "print('Installation successful.')\n",
    "\n",
    "# Tell XLA to use Triton GEMM, this improves steps/sec by ~30% on some GPUs\n",
    "xla_flags = os.environ.get('XLA_FLAGS', '')\n",
    "xla_flags += ' --xla_gpu_triton_gemm_any=True'\n",
    "os.environ['XLA_FLAGS'] = xla_flags"
   ]
  },
  {
   "cell_type": "markdown",
   "id": "1cc4b0ba",
   "metadata": {},
   "source": [
    "## Mujoco Setup & Imports"
   ]
  },
  {
   "cell_type": "code",
   "execution_count": null,
   "id": "cee0de70",
   "metadata": {},
   "outputs": [],
   "source": [
    "!pip install mujoco\n",
    "!pip install mujoco_mjx\n",
    "!pip install brax\n",
    "!pip install noise"
   ]
  },
  {
   "cell_type": "code",
   "execution_count": null,
   "id": "9538916c",
   "metadata": {},
   "outputs": [],
   "source": [
    "#@title Import MuJoCo, MJX, and Brax\n",
    "from datetime import datetime\n",
    "from etils import epath\n",
    "import functools\n",
    "from IPython.display import HTML\n",
    "from typing import Any, Dict, Sequence, Tuple, Union\n",
    "import os\n",
    "from ml_collections import config_dict\n",
    "\n",
    "\n",
    "import jax\n",
    "from jax import numpy as jp\n",
    "import numpy as np\n",
    "from flax.training import orbax_utils\n",
    "from flax import struct\n",
    "from matplotlib import pyplot as plt\n",
    "import mediapy as media\n",
    "from orbax import checkpoint as ocp\n",
    "\n",
    "import mujoco\n",
    "from mujoco import mjx\n",
    "\n",
    "from brax import base\n",
    "from brax import envs\n",
    "from brax import math\n",
    "from brax.base import Base, Motion, Transform\n",
    "from brax.base import State as PipelineState\n",
    "from brax.envs.base import Env, PipelineEnv, State\n",
    "from brax.mjx.base import State as MjxState\n",
    "from brax.training.agents.ppo import train as ppo\n",
    "from brax.training.agents.ppo import networks as ppo_networks\n",
    "from brax.io import html, mjcf, model\n",
    "\n",
    "import cv2"
   ]
  },
  {
   "cell_type": "markdown",
   "id": "0e106165",
   "metadata": {},
   "source": [
    "## Randomizing Model Properties in Mujoco Playground \n",
    "\n",
    "We might want to include randomization over certain `mjModel` parameters while training different policies. In MJX, we can easily create a **batch** of environments with randomized values populated in `mjx.Model`. Below, you will impliment a simple function that randomizes friction and actuator gain/bias.\n",
    "\n",
    "`TODO(student):` Impliment the function below to randomize friction in the environment **(10 pts)**"
   ]
  },
  {
   "cell_type": "code",
   "execution_count": null,
   "id": "990f8729",
   "metadata": {},
   "outputs": [],
   "source": [
    "def domain_randomize(sys, rng):\n",
    "  \"\"\"Randomizes the mjx.Model.\"\"\"\n",
    "  \n",
    "  @jax.vmap\n",
    "  def rand(rng):\n",
    "    '''\n",
    "    Returns randomized friction and actuator parameters.\n",
    "    '''\n",
    "      \n",
    "    _, key = jax.random.split(rng, 2)\n",
    "    \n",
    "    # TODO(student): Randomize the friction parameters and actuator parameters. \n",
    "    # friction ~ U(0.6, 1.4)\n",
    "    # HINT: you can use sys.geom_friction to access the friction values of geoms\n",
    "    \n",
    "    # friction randomization\n",
    "    friction = None\n",
    "    \n",
    "    # actuator randomization (already implimented)\n",
    "    _, key = jax.random.split(key, 2)\n",
    "    gain_range = (-5, 5)\n",
    "    param = jax.random.uniform(\n",
    "        key, (1,), minval=gain_range[0], maxval=gain_range[1]\n",
    "    ) + sys.actuator_gainprm[:, 0]\n",
    "    gain = sys.actuator_gainprm.at[:, 0].set(param)\n",
    "    bias = sys.actuator_biasprm.at[:, 1].set(-param)\n",
    "    \n",
    "    return friction, gain, bias\n",
    "\n",
    "  friction, gain, bias = rand(rng)\n",
    "\n",
    "  in_axes = jax.tree_util.tree_map(lambda x: None, sys)\n",
    "  \n",
    "  #TODO(student): Update the in_axes and sys model below...\n",
    "  in_axes = in_axes.tree_replace({\n",
    "      'actuator_gainprm': 0,\n",
    "      'actuator_biasprm': 0,\n",
    "  })\n",
    "\n",
    "  sys = sys.tree_replace({\n",
    "      'actuator_gainprm': gain,\n",
    "      'actuator_biasprm': bias,\n",
    "  })\n",
    "\n",
    "  return sys, in_axes"
   ]
  },
  {
   "cell_type": "code",
   "execution_count": null,
   "id": "2d0d0bce",
   "metadata": {},
   "outputs": [],
   "source": [
    "from custom_env import GoogleBarkourEnv\n",
    "envs.register_environment('barkour', GoogleBarkourEnv)\n",
    "env = envs.get_environment(\"barkour\")\n",
    "\n",
    "rng = jax.random.PRNGKey(0)\n",
    "rng = jax.random.split(rng, 10)\n",
    "batched_sys, _ = domain_randomize(env.sys, rng)\n",
    "\n",
    "print('Single env friction shape: ', env.sys.geom_friction.shape)\n",
    "print('Batched env friction shape: ', batched_sys.geom_friction.shape)\n",
    "\n",
    "print('Friction on geom 0: ', env.sys.geom_friction[0, 0])\n",
    "print('Random frictions on geom 0: ', batched_sys.geom_friction[:, 0, 0])"
   ]
  },
  {
   "cell_type": "markdown",
   "id": "20a5b3cd",
   "metadata": {},
   "source": [
    "`TODO(student):` Explain in your own words what the `@jax.vmap` decorator does in the above code: **(10 pts)**"
   ]
  },
  {
   "cell_type": "markdown",
   "id": "738e5d87",
   "metadata": {},
   "source": [
    "**[Your Answer Here]**"
   ]
  },
  {
   "cell_type": "markdown",
   "id": "e2d5d254",
   "metadata": {},
   "source": [
    "## Procedurally Generating Terrain\n",
    "\n",
    "In this section, we'll explore how to procedurally generate terrains to spawn in our environment. We will do this by modifying the [`scene_mjx.xml`](./google_barkour_vb/barkour_vb_mjx.xml) files provided in this lab. First, you'll create a modular \"terrain element builder\" which is capable of procedurally generating terrain elements (i.e. slopes, heightfields, boxes, cyllinders, and stairs). Next, we'll explore how to intelligently place these scene elements in the scene"
   ]
  },
  {
   "cell_type": "markdown",
   "id": "df118cb0",
   "metadata": {},
   "source": [
    "First, let's render a simple environment with a good view of the entire scene. "
   ]
  },
  {
   "cell_type": "code",
   "execution_count": null,
   "id": "81394884",
   "metadata": {},
   "outputs": [],
   "source": [
    "from custom_env import GoogleBarkourEnv\n",
    "envs.register_environment('barkour', GoogleBarkourEnv)\n",
    "env = envs.get_environment(\"barkour\")\n",
    "\n",
    "# jit reset/step functions for fast runtime\n",
    "jit_reset = jax.jit(env.reset)\n",
    "jit_step = jax.jit(env.step)\n",
    "\n",
    "state = jit_reset(jax.random.PRNGKey(0))\n",
    "\n",
    "img = env.render([state.pipeline_state], camera='scene', width=480, height=480)[0]\n",
    "plt.imshow(img)\n",
    "plt.title(\"Flat Terrain Scene Camera View\")\n",
    "plt.axis(\"off\")\n",
    "plt.show()"
   ]
  },
  {
   "cell_type": "markdown",
   "id": "19cd5f78",
   "metadata": {},
   "source": [
    "`TODO(student): `Impliment at least (2/5) \"TODOs\" in the [`terrain_generator.py`](./terrain_generator.py) file. You can use the next code blocks to generate a modified XML using the `TerrainGenerator` class. **(20 pts)**"
   ]
  },
  {
   "cell_type": "code",
   "execution_count": null,
   "id": "640de088",
   "metadata": {},
   "outputs": [],
   "source": [
    "# TODO: impliment the todos in the terrain_generator.py file to procedurally generate terrain\n",
    "\n",
    "from terrain_generator_student import TerrainGenerator\n",
    "\n",
    "input_scene_path = \"./google_barkour_vb/scene_mjx.xml\"\n",
    "output_scene_path = \"./google_barkour_vb/scene_mjx_with_terrain.xml\"\n",
    "tg = TerrainGenerator(input_scene_path, output_scene_path)\n",
    "\n",
    "# Box obstacle\n",
    "tg.AddBox(position=[1.5, 0.0, 0.1], euler=[0, 0, 0.0], size=[1, 1.5, 0.2])\n",
    "\n",
    "# Geometry obstacle\n",
    "# geo_type supports \"plane\", \"sphere\", \"capsule\", \"ellipsoid\", \"cylinder\", \"box\"\n",
    "tg.AddGeometry(position=[1.5, 0.0, 0.25], euler=[0, 0, 0.0], size=[1.0,0.5,0.5],geo_type=\"cylinder\")\n",
    "\n",
    "# Slope\n",
    "tg.AddBox(position=[2.0, 2.0, 0.5],\n",
    "            euler=[0.0, -0.5, 0.0],\n",
    "            size=[3, 1.5, 0.1])\n",
    "\n",
    "# Stairs\n",
    "tg.AddStairs(init_pos=[1.0, 4.0, 0.0], yaw=0.0)\n",
    "\n",
    "# Rough ground\n",
    "tg.AddRoughGround(init_pos=[-2.5, 5.0, 0.0],\n",
    "                    euler=[0, 0, 0.0],\n",
    "                    nums=[10, 8])\n",
    "\n",
    "# Perlin heigh field\n",
    "tg.AddPerlinHeighField(position=[-1.5, 4.0, 0.0], size=[2.0, 1.5])\n",
    "\n",
    "# Heigh field from image\n",
    "tg.AddHeighFieldFromImage(position=[-1.5, 2.0, 0.0],\n",
    "                          euler=[0, 0, -1.57],\n",
    "                          size=[2.0,2.0],\n",
    "                          input_img=\"./unitree_robot.jpeg\",\n",
    "                          image_scale=[1.0, 1.0],\n",
    "                          output_hfield_image=\"unitree_hfield.png\")\n",
    "\n",
    "tg.CustomTerrain()\n",
    "\n",
    "tg.Save()\n",
    "\n",
    "\n"
   ]
  },
  {
   "cell_type": "code",
   "execution_count": null,
   "id": "8ae07d96",
   "metadata": {},
   "outputs": [],
   "source": [
    "env = envs.get_environment(\"barkour\", scene_file=\"scene_mjx_with_terrain.xml\")\n",
    "\n",
    "# jit reset/step functions for fast runtime\n",
    "jit_reset = jax.jit(env.reset)\n",
    "jit_step = jax.jit(env.step)\n",
    "\n",
    "state = jit_reset(jax.random.PRNGKey(0))\n",
    "\n",
    "img = env.render([state.pipeline_state], camera='scene', width=480, height=480)[0]\n",
    "plt.imshow(img)\n",
    "plt.title(\"Procedurally Generated Terrain Scene Camera View\")\n",
    "plt.axis(\"off\")\n",
    "plt.show()"
   ]
  },
  {
   "cell_type": "markdown",
   "id": "dd2a4f0f",
   "metadata": {},
   "source": [
    "## Generating Terrain with Contraints (Wave Function Collapse)\n",
    "\n",
    "In this section, we'll use a cool method called Wave Function Collapse (WFC) to create custom, procedurally generated terrains for our environment! To get a high-level understanding of what this looks like, take a look at the popular git repo [https://github.com/mxgmn/WaveFunctionCollapse](https://github.com/mxgmn/WaveFunctionCollapse). \n",
    "Interestingly, one of the main use-cases for this algorithm is in computer games for self-generating maps and levels. The algorithm works by creating large output images that are \"locally similar\" to some small input pattern. \n",
    "\n",
    "![bitmap_illustration](./media/bitmap_illustration.png)\n",
    "\n",
    "The basic implementation of the algorithm generates **bitmap images**. One idea is to use these novel, generated bitmaps to define where to place different terrain elements in the scene (i.e. boxes, walls, stairs, etc). Ideally, this procedure would help make more structured, yet random environments for the robot to explore. \n",
    "\n",
    "Note: there are also implementations that generate \"tilemaps\", however, they typically require the user to explicitly generate contraints between tiles (which is a bit too time consuming for this lab). You can read more at [https://github.com/mxgmn/WaveFunctionCollapse](https://github.com/mxgmn/WaveFunctionCollapse). "
   ]
  },
  {
   "cell_type": "code",
   "execution_count": null,
   "id": "e22e4f06",
   "metadata": {},
   "outputs": [],
   "source": [
    "# TODO: Create your own bitmap pattern\n",
    "from PIL import Image\n",
    "import numpy as np\n",
    "\n",
    "def bitmap_string_to_image(bitmap_str, output_path=\"bitmap_image.png\"):\n",
    "    lines = bitmap_str.strip().split(\"\\n\")\n",
    "    height = len(lines)\n",
    "    width = len(lines[0])\n",
    "\n",
    "    # Create a numpy array\n",
    "    img_array = np.zeros((height, width), dtype=np.uint8)\n",
    "\n",
    "    # Fill array with integers\n",
    "    for i, line in enumerate(lines):\n",
    "        img_array[i] = [int(ch) for ch in line]\n",
    "\n",
    "    # Define fixed color map: e.g., 0=white, 1=black, 2=red, 3=green, 4=blue\n",
    "    color_palette = [\n",
    "        (255, 255, 255),  # 0 - white\n",
    "        (0, 0, 0),        # 1 - black\n",
    "        (255, 0, 0),      # 2 - red\n",
    "        (0, 255, 0),      # 3 - green\n",
    "        (0, 0, 255)       # 4 - blue\n",
    "    ]\n",
    "\n",
    "    rgb_img = np.zeros((height, width, 3), dtype=np.uint8)\n",
    "    unique_values = np.unique(img_array)\n",
    "\n",
    "    for val in unique_values:\n",
    "        color = color_palette[val % len(color_palette)]\n",
    "        mask = img_array == val\n",
    "        rgb_img[mask] = color\n",
    "\n",
    "    # Create and save image\n",
    "    img = Image.fromarray(rgb_img, \"RGB\")\n",
    "    img.save(output_path)\n",
    "    print(f\"Image saved to {output_path}\")\n",
    "    \n",
    "    return img\n",
    "\n",
    "\n",
    "\n"
   ]
  },
  {
   "cell_type": "code",
   "execution_count": null,
   "id": "c02f0211",
   "metadata": {},
   "outputs": [],
   "source": [
    "# TODO: play around with and change this pattern! Use any integers 0-4. \n",
    "import matplotlib.pyplot as plt\n",
    "\n",
    "\n",
    "bitmap_pattern_str = \"\"\"\n",
    "11211111111111111\n",
    "11111111111111111\n",
    "11000000000000011\n",
    "11011111011111011\n",
    "11011111011111011\n",
    "11011111011111011\n",
    "00011111011111000\n",
    "11111110001111011\n",
    "11111110001111011\n",
    "11111110001111011\n",
    "11110000001111011\n",
    "11110000000000011\n",
    "11110000001111111\n",
    "11111111111121111\n",
    "11111111111111111\n",
    "\"\"\"\n",
    "\n",
    "img = bitmap_string_to_image(bitmap_pattern_str, \"out_bitmap.png\")\n",
    "plt.figure(figsize=(6,6))  # bigger display window\n",
    "plt.imshow(img, cmap=\"gray\", interpolation=\"nearest\")\n",
    "plt.title(\"Bitmap Pattern Image\")\n",
    "plt.axis(\"off\")\n",
    "plt.show()\n"
   ]
  },
  {
   "cell_type": "markdown",
   "id": "acb8f3de",
   "metadata": {},
   "source": [
    "### Generate Random Bitmaps using Your Pattern\n",
    "\n",
    "`TODO(student):` Use the initial pattern that you just created to generate a larger output bitmap. **(40 pts)**\n",
    "\n",
    "To do this, use [this python implimentation of the Wave Function Collapse algorithm](https://github.com/ikarth/wfc_2019f?tab=readme-ov-file). Follow along with the readme to understand how to add your own custom patterns. I've found it best to just do this task on your local computer.  "
   ]
  },
  {
   "cell_type": "code",
   "execution_count": null,
   "id": "34346486",
   "metadata": {},
   "outputs": [],
   "source": [
    "# TODO: Display your full output bitmap here"
   ]
  },
  {
   "cell_type": "markdown",
   "id": "0cee843b",
   "metadata": {},
   "source": [
    "### Use Your Procedurally Generated Bitmap to Influence the Mujoco Terrain\n",
    "\n",
    "`TODO(student):` Somehow use your generated bitmap to influence the terrain in some way using the `TerrainGenerator` class you implimented in the previous section. **(40 pts)**\n",
    "\n",
    "There are many ways to do this, here are a few ideas: \n",
    "1. come up with a mapping from pixels to world locations and spawn different terrain elements for different pixel values\n",
    "2. simply interpret the bitmap image as a heightmap in the `TerrainGenerator`\n"
   ]
  },
  {
   "cell_type": "code",
   "execution_count": null,
   "id": "a02637a5",
   "metadata": {},
   "outputs": [],
   "source": [
    "# TODO: Display your final mujoco scene here"
   ]
  },
  {
   "cell_type": "markdown",
   "id": "4843217d",
   "metadata": {},
   "source": [
    "This idea can actually be extended to more complicated terrains and meshes! See [the terrain-generator repository](https://github.com/leggedrobotics/terrain-generator) for a more detailed implimentation if you're curious!"
   ]
  },
  {
   "cell_type": "markdown",
   "id": "45aecbcf",
   "metadata": {},
   "source": [
    "## Adding a Dynamic Obstacle (Optional / No Credit)\n",
    "\n",
    "Another thing you may be interested in is adding dynamic object to the scene that the robot can interact with. If interested, take a look at [`pick.py`](https://github.com/google-deepmind/mujoco_playground/blob/main/mujoco_playground/_src/manipulation/franka_emika_panda/pick.py) from the official mujoco_playground repo to figure out how to do this. \n",
    "\n",
    "\n",
    "Note that you'll have to modify both the environment file `custom_env.py` and the `google_barkour_vb/scene_mjx.xml` file to get this to work!"
   ]
  },
  {
   "cell_type": "markdown",
   "id": "5e865512",
   "metadata": {},
   "source": [
    "## What to Turn In\n",
    "\n",
    "`#TODO(student):` Please zip the following files and turn them into the assignment on gradescope:\n",
    "1. this `04_lab_student.ipynb` file. Please make sure to fill our your name and umich ID in the first cell\n",
    "2. the modified `terrain_generator_student.py` file."
   ]
  },
  {
   "cell_type": "markdown",
   "id": "8a263b5d",
   "metadata": {},
   "source": []
  }
 ],
 "metadata": {
  "kernelspec": {
   "display_name": "lab04",
   "language": "python",
   "name": "python3"
  },
  "language_info": {
   "codemirror_mode": {
    "name": "ipython",
    "version": 3
   },
   "file_extension": ".py",
   "mimetype": "text/x-python",
   "name": "python",
   "nbconvert_exporter": "python",
   "pygments_lexer": "ipython3",
   "version": "3.11.13"
  }
 },
 "nbformat": 4,
 "nbformat_minor": 5
}
